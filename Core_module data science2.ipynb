{
 "cells": [
  {
   "cell_type": "markdown",
   "id": "b3fa01e9",
   "metadata": {},
   "source": [
    "1. Scenario: A company wants to analyze the sales performance of its products in different regions. They have collected the following data: Region A: [10, 15, 12, 8, 14] Region B: [18, 20, 16, 22, 25] Calculate the mean sales for each region."
   ]
  },
  {
   "cell_type": "code",
   "execution_count": 1,
   "id": "84bb6e78",
   "metadata": {},
   "outputs": [
    {
     "name": "stdout",
     "output_type": "stream",
     "text": [
      "Mean sales for Region A: 11.8\n",
      "Mean sales for Region B: 20.2\n"
     ]
    }
   ],
   "source": [
    "def calculate_mean_sales(region_sales):\n",
    "    total_sales = sum(region_sales)\n",
    "    num_sales = len(region_sales)\n",
    "    mean_sales = total_sales / num_sales\n",
    "    return mean_sales\n",
    "\n",
    "region_a_sales = [10, 15, 12, 8, 14]\n",
    "region_b_sales = [18, 20, 16, 22, 25]\n",
    "\n",
    "mean_sales_region_a = calculate_mean_sales(region_a_sales)\n",
    "mean_sales_region_b = calculate_mean_sales(region_b_sales)\n",
    "\n",
    "print(\"Mean sales for Region A:\", mean_sales_region_a)\n",
    "print(\"Mean sales for Region B:\", mean_sales_region_b)\n"
   ]
  },
  {
   "cell_type": "markdown",
   "id": "917b989d",
   "metadata": {},
   "source": [
    "2. Scenario: A survey is conducted to measure customer satisfaction on a scale of 1 to 5. The data collected is as follows: [4, 5, 2, 3, 5, 4, 3, 2, 4, 5] Calculate the mode of the survey responses."
   ]
  },
  {
   "cell_type": "code",
   "execution_count": 2,
   "id": "addb37dc",
   "metadata": {},
   "outputs": [
    {
     "name": "stdout",
     "output_type": "stream",
     "text": [
      "Mode(s) of the survey responses: [4, 5]\n"
     ]
    }
   ],
   "source": [
    "\n",
    "from collections import Counter\n",
    "\n",
    "survey_responses = [4, 5, 2, 3, 5, 4, 3, 2, 4, 5]\n",
    "\n",
    "# Count the occurrences of each response\n",
    "response_counts = Counter(survey_responses)\n",
    "\n",
    "# Find the mode(s) by finding the value(s) with the maximum count\n",
    "max_count = max(response_counts.values())\n",
    "modes = [response for response, count in response_counts.items() if count == max_count]\n",
    "\n",
    "print(\"Mode(s) of the survey responses:\", modes)"
   ]
  },
  {
   "cell_type": "markdown",
   "id": "7ec11c65",
   "metadata": {},
   "source": [
    "3.Scenario: A company wants to compare the salaries of two departments. The salary data for Department A and Department B are as follows: Department A: [5000, 6000, 5500, 7000] Department B: [4500, 5500, 5800, 6000, 5200] Calculate the median salary for each department."
   ]
  },
  {
   "cell_type": "code",
   "execution_count": 3,
   "id": "c6c3261a",
   "metadata": {},
   "outputs": [
    {
     "name": "stdout",
     "output_type": "stream",
     "text": [
      "Median salary for Department A: 5750.0\n",
      "Median salary for Department B: 5500\n"
     ]
    }
   ],
   "source": [
    "def calculate_median_salary(salary_data):\n",
    "    sorted_salaries = sorted(salary_data)\n",
    "    num_salaries = len(sorted_salaries)\n",
    "    mid_index = num_salaries // 2\n",
    "\n",
    "    if num_salaries % 2 == 1:\n",
    "        median_salary = sorted_salaries[mid_index]\n",
    "    else:\n",
    "        median_salary = (sorted_salaries[mid_index - 1] + sorted_salaries[mid_index]) / 2\n",
    "\n",
    "    return median_salary\n",
    "\n",
    "department_a_salaries = [5000, 6000, 5500, 7000]\n",
    "department_b_salaries = [4500, 5500, 5800, 6000, 5200]\n",
    "\n",
    "median_salary_department_a = calculate_median_salary(department_a_salaries)\n",
    "median_salary_department_b = calculate_median_salary(department_b_salaries)\n",
    "\n",
    "print(\"Median salary for Department A:\", median_salary_department_a)\n",
    "print(\"Median salary for Department B:\", median_salary_department_b)"
   ]
  },
  {
   "cell_type": "markdown",
   "id": "52b71398",
   "metadata": {},
   "source": [
    "4. Scenario: A data analyst wants to determine the variability in the daily stock prices of a company. The data collected is as follows: [25.5, 24.8, 26.1, 25.3, 24.9] Calculate the range of the stock prices."
   ]
  },
  {
   "cell_type": "code",
   "execution_count": 4,
   "id": "fe3f9aec",
   "metadata": {},
   "outputs": [
    {
     "name": "stdout",
     "output_type": "stream",
     "text": [
      "Range of the stock prices: 1.3000000000000007\n"
     ]
    }
   ],
   "source": [
    "\n",
    "stock_prices = [25.5, 24.8, 26.1, 25.3, 24.9]\n",
    "\n",
    "min_price = min(stock_prices)\n",
    "max_price = max(stock_prices)\n",
    "\n",
    "range_stock_prices = max_price - min_price\n",
    "\n",
    "print(\"Range of the stock prices:\", range_stock_prices)\n"
   ]
  },
  {
   "cell_type": "markdown",
   "id": "3f219f6f",
   "metadata": {},
   "source": [
    "5. Scenario: A study is conducted to compare the performance of two different teaching methods. The test scores of the students in each group are as follows: Group A: [85, 90, 92, 88, 91] Group B: [82, 88, 90, 86, 87] Perform a t-test to determine if there is a significant difference in the mean scores between the two groups."
   ]
  },
  {
   "cell_type": "code",
   "execution_count": 5,
   "id": "6bb8e860",
   "metadata": {},
   "outputs": [
    {
     "name": "stdout",
     "output_type": "stream",
     "text": [
      "There is no significant difference in the mean scores between the two groups.\n"
     ]
    }
   ],
   "source": [
    "\n",
    "from scipy.stats import ttest_ind\n",
    "\n",
    "group_a_scores = [85, 90, 92, 88, 91]\n",
    "group_b_scores = [82, 88, 90, 86, 87]\n",
    "\n",
    "t_statistic, p_value = ttest_ind(group_a_scores, group_b_scores)\n",
    "\n",
    "alpha = 0.05  # significance level\n",
    "\n",
    "if p_value < alpha:\n",
    "    print(\"There is a significant difference in the mean scores between the two groups.\")\n",
    "else:\n",
    "    print(\"There is no significant difference in the mean scores between the two groups.\")\n",
    "\n",
    "     "
   ]
  },
  {
   "cell_type": "markdown",
   "id": "36993e4f",
   "metadata": {},
   "source": [
    "6.Scenario: A company wants to analyze the relationship between advertising expenditure and sales. The data collected is as follows: Advertising Expenditure (in thousands): [10, 15, 12, 8, 14] Sales (in thousands): [25, 30, 28, 20, 26] Calculate the correlation coefficient between advertising expenditure and sales."
   ]
  },
  {
   "cell_type": "code",
   "execution_count": 6,
   "id": "b49065a1",
   "metadata": {},
   "outputs": [
    {
     "name": "stdout",
     "output_type": "stream",
     "text": [
      "Correlation coefficient: 0.8757511375750132\n"
     ]
    }
   ],
   "source": [
    "\n",
    "from scipy.stats import pearsonr\n",
    "\n",
    "advertising_expenditure = [10, 15, 12, 8, 14]\n",
    "sales = [25, 30, 28, 20, 26]\n",
    "\n",
    "correlation_coefficient, p_value = pearsonr(advertising_expenditure, sales)\n",
    "\n",
    "print(\"Correlation coefficient:\", correlation_coefficient)"
   ]
  },
  {
   "cell_type": "markdown",
   "id": "1821af5d",
   "metadata": {},
   "source": [
    "7. Scenario: A survey is conducted to measure the heights of a group of people. The data collected is as follows: [160, 170, 165, 155, 175, 180, 170] Calculate the standard deviation of the heights"
   ]
  },
  {
   "cell_type": "code",
   "execution_count": 7,
   "id": "28838328",
   "metadata": {},
   "outputs": [
    {
     "name": "stdout",
     "output_type": "stream",
     "text": [
      "Standard deviation of the heights: 7.953949089757174\n"
     ]
    }
   ],
   "source": [
    "\n",
    "import numpy as np\n",
    "\n",
    "heights = [160, 170, 165, 155, 175, 180, 170]\n",
    "\n",
    "standard_deviation = np.std(heights)\n",
    "\n",
    "print(\"Standard deviation of the heights:\", standard_deviation)\n"
   ]
  },
  {
   "cell_type": "markdown",
   "id": "c2c5e205",
   "metadata": {},
   "source": [
    "8.Scenario: A company wants to analyze the relationship between employee tenure and job satisfaction. The data collected is as follows: Employee Tenure (in years): [2, 3, 5, 4, 6, 2, 4] Job Satisfaction (on a scale of 1 to 10): [7, 8, 6, 9, 5, 7, 6] Perform a linear regression analysis to predict job satisfaction based on employee tenure."
   ]
  },
  {
   "cell_type": "code",
   "execution_count": 8,
   "id": "b5167589",
   "metadata": {},
   "outputs": [
    {
     "name": "stdout",
     "output_type": "stream",
     "text": [
      "Regression equation: Job Satisfaction = -0.47 * Employee Tenure + 8.60\n"
     ]
    }
   ],
   "source": [
    "\n",
    "from sklearn.linear_model import LinearRegression\n",
    "import numpy as np\n",
    "\n",
    "employee_tenure = np.array([2, 3, 5, 4, 6, 2, 4]).reshape((-1, 1))\n",
    "job_satisfaction = np.array([7, 8, 6, 9, 5, 7, 6])\n",
    "\n",
    "# Create a linear regression model and fit the data\n",
    "model = LinearRegression()\n",
    "model.fit(employee_tenure, job_satisfaction)\n",
    "\n",
    "# Get the coefficients (slope and intercept)\n",
    "slope = model.coef_[0]\n",
    "intercept = model.intercept_\n",
    "\n",
    "print(\"Regression equation: Job Satisfaction = {:.2f} * Employee Tenure + {:.2f}\".format(slope, intercept))\n",
    "\n",
    "     "
   ]
  },
  {
   "cell_type": "markdown",
   "id": "3b8b2d29",
   "metadata": {},
   "source": [
    "9. Scenario: A study is conducted to compare the effectiveness of two different medications. The recovery times of the patients in each group are as follows: Medication A: [10, 12, 14, 11, 13] Medication B: [15, 17, 16, 14, 18] Perform an analysis of variance (ANOVA) to determine if there is a significant difference in the mean recovery times between the two medications."
   ]
  },
  {
   "cell_type": "code",
   "execution_count": 9,
   "id": "a6526c49",
   "metadata": {},
   "outputs": [
    {
     "name": "stdout",
     "output_type": "stream",
     "text": [
      "There is a significant difference in the mean recovery times between the two medications.\n"
     ]
    }
   ],
   "source": [
    "\n",
    "from scipy.stats import f_oneway\n",
    "\n",
    "medication_a_recovery_times = [10, 12, 14, 11, 13]\n",
    "medication_b_recovery_times = [15, 17, 16, 14, 18]\n",
    "\n",
    "f_statistic, p_value = f_oneway(medication_a_recovery_times, medication_b_recovery_times)\n",
    "\n",
    "alpha = 0.05  # significance level\n",
    "\n",
    "if p_value < alpha:\n",
    "    print(\"There is a significant difference in the mean recovery times between the two medications.\")\n",
    "else:\n",
    "    print(\"There is no significant difference in the mean recovery times between the two medications.\")\n",
    "\n"
   ]
  },
  {
   "cell_type": "markdown",
   "id": "d60b2384",
   "metadata": {},
   "source": [
    "10.Scenario: A company wants to analyze customer feedback ratings on a scale of 1 to 10. The data collected is\n",
    "as follows: [8, 9, 7, 6, 8, 10, 9, 8, 7, 8] Calculate the 75th percentile of the feedback ratings."
   ]
  },
  {
   "cell_type": "code",
   "execution_count": 10,
   "id": "f3dafad0",
   "metadata": {},
   "outputs": [
    {
     "name": "stdout",
     "output_type": "stream",
     "text": [
      "75th percentile of the feedback ratings: 8.75\n"
     ]
    }
   ],
   "source": [
    "\n",
    "import numpy as np\n",
    "\n",
    "feedback_ratings = [8, 9, 7, 6, 8, 10, 9, 8, 7, 8]\n",
    "\n",
    "percentile_75 = np.percentile(feedback_ratings, 75)\n",
    "\n",
    "print(\"75th percentile of the feedback ratings:\", percentile_75)"
   ]
  },
  {
   "cell_type": "markdown",
   "id": "84e1a00b",
   "metadata": {},
   "source": [
    "11.Scenario: A quality control department wants to test the weight consistency of a product. The weights of a sample of products are as follows: [10.2, 9.8, 10.0, 10.5, 10.3, 10.1] Perform a hypothesis test to determine if the mean weight differs significantly from 10 grams."
   ]
  },
  {
   "cell_type": "code",
   "execution_count": 11,
   "id": "0f8390e5",
   "metadata": {},
   "outputs": [
    {
     "name": "stdout",
     "output_type": "stream",
     "text": [
      "The mean weight does not differ significantly from 10 grams.\n"
     ]
    }
   ],
   "source": [
    "\n",
    "from scipy.stats import ttest_1samp\n",
    "\n",
    "weights = [10.2, 9.8, 10.0, 10.5, 10.3, 10.1]\n",
    "\n",
    "population_mean = 10  # specified population mean\n",
    "\n",
    "t_statistic, p_value = ttest_1samp(weights, population_mean)\n",
    "\n",
    "alpha = 0.05  # significance level\n",
    "\n",
    "if p_value < alpha:\n",
    "    print(\"The mean weight differs significantly from 10 grams.\")\n",
    "else:\n",
    "    print(\"The mean weight does not differ significantly from 10 grams.\")\n"
   ]
  },
  {
   "cell_type": "markdown",
   "id": "6dbae1db",
   "metadata": {},
   "source": [
    "12.Scenario: A company wants to analyze the click-through rates of two different website designs. The number of clicks for each design is as follows: Design A: [100, 120, 110, 90, 95] Design B: [80, 85, 90, 95, 100] Perform a chi-square test to determine if there is a significant difference in the click-through rates between the two designs."
   ]
  },
  {
   "cell_type": "code",
   "execution_count": 12,
   "id": "2535a3c2",
   "metadata": {},
   "outputs": [
    {
     "name": "stdout",
     "output_type": "stream",
     "text": [
      "There is no significant difference in the click-through rates between the two designs.\n"
     ]
    }
   ],
   "source": [
    "\n",
    "from scipy.stats import chi2_contingency\n",
    "\n",
    "design_a_clicks = [100, 120, 110, 90, 95]\n",
    "design_b_clicks = [80, 85, 90, 95, 100]\n",
    "\n",
    "# Create a contingency table\n",
    "contingency_table = [design_a_clicks, design_b_clicks]\n",
    "\n",
    "chi2_statistic, p_value, _, _ = chi2_contingency(contingency_table)\n",
    "\n",
    "alpha = 0.05  # significance level\n",
    "\n",
    "if p_value < alpha:\n",
    "    print(\"There is a significant difference in the click-through rates between the two designs.\")\n",
    "else:\n",
    "    print(\"There is no significant difference in the click-through rates between the two designs.\")\n"
   ]
  },
  {
   "cell_type": "markdown",
   "id": "4aa9e351",
   "metadata": {},
   "source": [
    "13.Scenario: A survey is conducted to measure customer satisfaction with a product on a scale of 1 to 10. The data collected is as follows: [7, 9, 6, 8, 10, 7, 8, 9, 7, 8] Calculate the 95% confidence interval for the population mean satisfaction score"
   ]
  },
  {
   "cell_type": "code",
   "execution_count": 13,
   "id": "ce3ec614",
   "metadata": {},
   "outputs": [
    {
     "name": "stdout",
     "output_type": "stream",
     "text": [
      "95% Confidence Interval for the population mean satisfaction score: (7.043561120599888, 8.756438879400113)\n"
     ]
    }
   ],
   "source": [
    "\n",
    "from scipy.stats import t\n",
    "\n",
    "satisfaction_scores = [7, 9, 6, 8, 10, 7, 8, 9, 7, 8]\n",
    "\n",
    "confidence_level = 0.95\n",
    "sample_mean = np.mean(satisfaction_scores)\n",
    "sample_size = len(satisfaction_scores)\n",
    "sample_standard_error = np.std(satisfaction_scores, ddof=1) / np.sqrt(sample_size)\n",
    "\n",
    "confidence_interval = t.interval(confidence_level, df=sample_size-1, loc=sample_mean, scale=sample_standard_error)\n",
    "\n",
    "print(\"95% Confidence Interval for the population mean satisfaction score:\", confidence_interval)\n"
   ]
  },
  {
   "cell_type": "markdown",
   "id": "13309ac7",
   "metadata": {},
   "source": [
    "14.Scenario: A company wants to analyze the effect of temperature on product performance. The data collected is as follows: Temperature (in degrees Celsius): [20, 22, 23, 19, 21] Performance (on a scale of 1 to 10): [8, 7, 9, 6, 8] Perform a simple linear regression to predict performance based on temperature."
   ]
  },
  {
   "cell_type": "code",
   "execution_count": 14,
   "id": "2a2abde7",
   "metadata": {},
   "outputs": [
    {
     "name": "stdout",
     "output_type": "stream",
     "text": [
      "Regression equation: Performance = 0.50 * Temperature + -2.90\n"
     ]
    }
   ],
   "source": [
    "from sklearn.linear_model import LinearRegression\n",
    "import numpy as np\n",
    "\n",
    "temperature = np.array([20, 22, 23, 19, 21]).reshape((-1, 1))\n",
    "performance = np.array([8, 7, 9, 6, 8])\n",
    "\n",
    "# Create a linear regression model and fit the data\n",
    "model = LinearRegression()\n",
    "model.fit(temperature, performance)\n",
    "\n",
    "# Get the coefficients (slope and intercept)\n",
    "slope = model.coef_[0]\n",
    "intercept = model.intercept_\n",
    "\n",
    "print(\"Regression equation: Performance = {:.2f} * Temperature + {:.2f}\".format(slope, intercept))\n",
    "\n",
    "     "
   ]
  },
  {
   "cell_type": "markdown",
   "id": "bc9310c4",
   "metadata": {},
   "source": [
    "15.Scenario: A study is conducted to compare the preferences of two groups of participants. The preferences are measured on a Likert scale from 1 to 5. The data collected is as follows: Group A: [4, 3, 5, 2, 4]\n",
    "\n",
    "Group B: [3, 2, 4, 3, 3] Perform a Mann-Whitney U test to determine if there is a significant difference in the median preferences between the two groups."
   ]
  },
  {
   "cell_type": "code",
   "execution_count": 15,
   "id": "adc19a60",
   "metadata": {},
   "outputs": [
    {
     "name": "stdout",
     "output_type": "stream",
     "text": [
      "There is no significant difference in the median preferences between the two groups.\n"
     ]
    }
   ],
   "source": [
    "\n",
    "from scipy.stats import mannwhitneyu\n",
    "\n",
    "group_a_preferences = [4, 3, 5, 2, 4]\n",
    "group_b_preferences = [3, 2, 4, 3, 3]\n",
    "\n",
    "statistic, p_value = mannwhitneyu(group_a_preferences, group_b_preferences)\n",
    "\n",
    "alpha = 0.05  # significance level\n",
    "\n",
    "if p_value < alpha:\n",
    "    print(\"There is a significant difference in the median preferences between the two groups.\")\n",
    "else:\n",
    "    print(\"There is no significant difference in the median preferences between the two groups.\")\n"
   ]
  },
  {
   "cell_type": "markdown",
   "id": "a94fbfae",
   "metadata": {},
   "source": [
    "Scenario: A company wants to analyze the distribution of customer ages. The data collected is as follows: [25, 30, 35, 40, 45, 50, 55, 60, 65, 70] Calculate the interquartile range (IQR) of the ages."
   ]
  },
  {
   "cell_type": "code",
   "execution_count": 16,
   "id": "68a635ba",
   "metadata": {},
   "outputs": [
    {
     "name": "stdout",
     "output_type": "stream",
     "text": [
      "Interquartile Range (IQR) of the ages: 22.5\n"
     ]
    }
   ],
   "source": [
    "\n",
    "import numpy as np\n",
    "\n",
    "ages = [25, 30, 35, 40, 45, 50, 55, 60, 65, 70]\n",
    "\n",
    "q1 = np.percentile(ages, 25)\n",
    "q3 = np.percentile(ages, 75)\n",
    "\n",
    "iqr = q3 - q1\n",
    "\n",
    "print(\"Interquartile Range (IQR) of the ages:\", iqr)\n"
   ]
  },
  {
   "cell_type": "markdown",
   "id": "609a4d90",
   "metadata": {},
   "source": [
    "17.Scenario: A study is conducted to compare the performance of three different machine learning algorithms. The accuracy scores for each algorithm are as follows: Algorithm A: [0.85, 0.80, 0.82, 0.87, 0.83] Algorithm B: [0.78, 0.82, 0.84, 0.80, 0.79] Algorithm C: [0.90, 0.88, 0.89, 0.86, 0.87] Perform a Kruskal-Wallis test to determine if there is a significant difference in the median accuracy scores between the algorithms"
   ]
  },
  {
   "cell_type": "code",
   "execution_count": 17,
   "id": "a3a1b1f4",
   "metadata": {},
   "outputs": [
    {
     "name": "stdout",
     "output_type": "stream",
     "text": [
      "There is a significant difference in the median accuracy scores between the algorithms.\n"
     ]
    }
   ],
   "source": [
    "from scipy.stats import kruskal\n",
    "\n",
    "algorithm_a_scores = [0.85, 0.80, 0.82, 0.87, 0.83]\n",
    "algorithm_b_scores = [0.78, 0.82, 0.84, 0.80, 0.79]\n",
    "algorithm_c_scores = [0.90, 0.88, 0.89, 0.86, 0.87]\n",
    "\n",
    "statistic, p_value = kruskal(algorithm_a_scores, algorithm_b_scores, algorithm_c_scores)\n",
    "\n",
    "alpha = 0.05  # significance level\n",
    "\n",
    "if p_value < alpha:\n",
    "    print(\"There is a significant difference in the median accuracy scores between the algorithms.\")\n",
    "else:\n",
    "    print(\"There is no significant difference in the median accuracy scores between the algorithms.\")\n"
   ]
  },
  {
   "cell_type": "markdown",
   "id": "ffc6d34f",
   "metadata": {},
   "source": [
    "18.Scenario: A company wants to analyze the effect of price on sales. The data collected is as follows: Price (in dollars): [10, 15, 12, 8, 14] Sales: [100, 80, 90, 110, 95] Perform a simple linear regression to predict"
   ]
  },
  {
   "cell_type": "code",
   "execution_count": 18,
   "id": "c76854b9",
   "metadata": {},
   "outputs": [
    {
     "name": "stdout",
     "output_type": "stream",
     "text": [
      "Regression equation: Sales = -3.51 * Price + 136.37\n"
     ]
    }
   ],
   "source": [
    "from sklearn.linear_model import LinearRegression\n",
    "import numpy as np\n",
    "\n",
    "price = np.array([10, 15, 12, 8, 14]).reshape((-1, 1))\n",
    "sales = np.array([100, 80, 90, 110, 95])\n",
    "\n",
    "# Create a linear regression model and fit the data\n",
    "model = LinearRegression()\n",
    "model.fit(price, sales)\n",
    "\n",
    "# Get the coefficients (slope and intercept)\n",
    "slope = model.coef_[0]\n",
    "intercept = model.intercept_\n",
    "\n",
    "print(\"Regression equation: Sales = {:.2f} * Price + {:.2f}\".format(slope, intercept))\n"
   ]
  },
  {
   "cell_type": "markdown",
   "id": "3009e877",
   "metadata": {},
   "source": [
    "19. Scenario: A survey is conducted to measure the satisfaction levels of customers with a new product. The data collected is as follows: [7, 8, 9, 6, 8, 7, 9, 7, 8, 7] Calculate the standard error of the mean satisfaction score."
   ]
  },
  {
   "cell_type": "code",
   "execution_count": 19,
   "id": "43a11fff",
   "metadata": {},
   "outputs": [
    {
     "name": "stdout",
     "output_type": "stream",
     "text": [
      "Standard Error of the mean satisfaction score: 0.30550504633038933\n"
     ]
    }
   ],
   "source": [
    "import numpy as np\n",
    "\n",
    "satisfaction_scores = [7, 8, 9, 6, 8, 7, 9, 7, 8, 7]\n",
    "\n",
    "sample_size = len(satisfaction_scores)\n",
    "standard_deviation = np.std(satisfaction_scores, ddof=1)\n",
    "standard_error = standard_deviation / np.sqrt(sample_size)\n",
    "\n",
    "print(\"Standard Error of the mean satisfaction score:\", standard_error)"
   ]
  },
  {
   "cell_type": "markdown",
   "id": "a1ca37fe",
   "metadata": {},
   "source": [
    "20.Scenario: A company wants to analyze the relationship between advertising expenditure and sales. The data collected is as follows: Advertising Expenditure (in thousands): [10, 15, 12, 8, 14] Sales (in thousands): [25, 30, 28, 20, 26] Perform a multiple regression analysis to predict sales based on advertising expenditure."
   ]
  },
  {
   "cell_type": "code",
   "execution_count": 20,
   "id": "ff801511",
   "metadata": {},
   "outputs": [
    {
     "name": "stdout",
     "output_type": "stream",
     "text": [
      "Regression equation: Sales = 1.15 * Advertising Expenditure + 12.20\n"
     ]
    }
   ],
   "source": [
    "\n",
    "from sklearn.linear_model import LinearRegression\n",
    "import numpy as np\n",
    "\n",
    "advertising_expenditure = np.array([10, 15, 12, 8, 14]).reshape((-1, 1))\n",
    "sales = np.array([25, 30, 28, 20, 26])\n",
    "\n",
    "# Create a linear regression model and fit the data\n",
    "model = LinearRegression()\n",
    "model.fit(advertising_expenditure, sales)\n",
    "\n",
    "# Get the coefficients (slope and intercept)\n",
    "slope = model.coef_[0]\n",
    "intercept = model.intercept_\n",
    "\n",
    "print(\"Regression equation: Sales = {:.2f} * Advertising Expenditure + {:.2f}\".format(slope, intercept))\n"
   ]
  },
  {
   "cell_type": "code",
   "execution_count": null,
   "id": "dde401c1",
   "metadata": {},
   "outputs": [],
   "source": []
  }
 ],
 "metadata": {
  "kernelspec": {
   "display_name": "Python 3 (ipykernel)",
   "language": "python",
   "name": "python3"
  },
  "language_info": {
   "codemirror_mode": {
    "name": "ipython",
    "version": 3
   },
   "file_extension": ".py",
   "mimetype": "text/x-python",
   "name": "python",
   "nbconvert_exporter": "python",
   "pygments_lexer": "ipython3",
   "version": "3.9.7"
  }
 },
 "nbformat": 4,
 "nbformat_minor": 5
}
