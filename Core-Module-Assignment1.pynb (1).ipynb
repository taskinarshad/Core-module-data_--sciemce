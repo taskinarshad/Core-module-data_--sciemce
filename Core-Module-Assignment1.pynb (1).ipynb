{
 "cells": [
  {
   "cell_type": "markdown",
   "id": "549fad1f",
   "metadata": {},
   "source": [
    "1. Write a Python program to reverse a string without using any built-in string reversal functions."
   ]
  },
  {
   "cell_type": "code",
   "execution_count": 1,
   "id": "a5e9886c",
   "metadata": {},
   "outputs": [
    {
     "data": {
      "text/plain": [
       "'dahsra'"
      ]
     },
     "execution_count": 1,
     "metadata": {},
     "output_type": "execute_result"
    }
   ],
   "source": [
    "s = 'arshad'\n",
    "s[: : -1]"
   ]
  },
  {
   "cell_type": "markdown",
   "id": "29641ae8",
   "metadata": {},
   "source": [
    "# 2. Implement a function to check if a given string is a palindrome"
   ]
  },
  {
   "cell_type": "code",
   "execution_count": 2,
   "id": "849062e0",
   "metadata": {},
   "outputs": [
    {
     "data": {
      "text/plain": [
       "True"
      ]
     },
     "execution_count": 2,
     "metadata": {},
     "output_type": "execute_result"
    }
   ],
   "source": [
    "def isPalindrome(s):\n",
    "    i, j = 0, len(s)-1\n",
    "    \n",
    "    while i<j:\n",
    "        \n",
    "        while i<j and not s[i].isalnum():\n",
    "            i = i + 1\n",
    "        while i<j and not s[j].isalnum():\n",
    "            j = j - 1\n",
    "            \n",
    "        if s[i].lower() != s[j].lower():\n",
    "            return False\n",
    "        \n",
    "        i = i + 1\n",
    "        j = j - 1\n",
    "        \n",
    "    return True\n",
    "\n",
    "s = \"A man, a plan, a canal: Panama\"\n",
    "isPalindrome(s)"
   ]
  },
  {
   "cell_type": "code",
   "execution_count": 3,
   "id": "7859a063",
   "metadata": {},
   "outputs": [
    {
     "data": {
      "text/plain": [
       "10"
      ]
     },
     "execution_count": 3,
     "metadata": {},
     "output_type": "execute_result"
    }
   ],
   "source": [
    "# 3. Write a program to find the largest element in a given list.\n",
    "l = [8,5,4,2,9,10]\n",
    "large = l[0]\n",
    "for i in range(len(l)):\n",
    "    if large < l[i]:\n",
    "        large = l[i]\n",
    "        \n",
    "large"
   ]
  },
  {
   "cell_type": "code",
   "execution_count": 4,
   "id": "fc1c675e",
   "metadata": {},
   "outputs": [
    {
     "name": "stdout",
     "output_type": "stream",
     "text": [
      "1:1\n",
      "2:2\n",
      "3:3\n",
      "4:2\n",
      "5:1\n"
     ]
    }
   ],
   "source": [
    "# 4. Implement a function to count the occurrence of each element in a list.\n",
    "l = [1,2,2,3,3,3,4,4,5]\n",
    "occurance = 0\n",
    "for i in set(l):\n",
    "    print(f\"{i}:{l.count(i)}\")"
   ]
  },
  {
   "cell_type": "code",
   "execution_count": 6,
   "id": "a5d33bb7",
   "metadata": {},
   "outputs": [
    {
     "name": "stdout",
     "output_type": "stream",
     "text": [
      "10\n"
     ]
    }
   ],
   "source": [
    "# 5. Write a Python program to find second largest number in a list?\n",
    "l = [8,5,4,12,9,10,1,2]\n",
    "for i in range(len(l)):\n",
    "    for j in range(len(l)-1):\n",
    "        if(l[j]>l[j+1]):\n",
    "            temp = l[j]\n",
    "            l[j] = l[j+1]\n",
    "            l[j+1] = temp\n",
    "            \n",
    "print(l[-2])"
   ]
  },
  {
   "cell_type": "code",
   "execution_count": 7,
   "id": "2c66b5a9",
   "metadata": {},
   "outputs": [
    {
     "data": {
      "text/plain": [
       "[1, 2, 3, 4, 5]"
      ]
     },
     "execution_count": 7,
     "metadata": {},
     "output_type": "execute_result"
    }
   ],
   "source": [
    "# 6. Implement a function to remove duplicate elements from a list.\n",
    "l = [1,2,2,3,3,3,4,4,5]\n",
    "s = set(l)\n",
    "l = list(s)\n",
    "l"
   ]
  },
  {
   "cell_type": "code",
   "execution_count": 8,
   "id": "838b305f",
   "metadata": {},
   "outputs": [
    {
     "name": "stdout",
     "output_type": "stream",
     "text": [
      "Enter The Number: 6\n"
     ]
    },
    {
     "data": {
      "text/plain": [
       "720"
      ]
     },
     "execution_count": 8,
     "metadata": {},
     "output_type": "execute_result"
    }
   ],
   "source": [
    "# 7. Write a program to calculate the factorial of a given number.\n",
    "def factorial(num):\n",
    "    if(num<1):\n",
    "        return 1\n",
    "    else:\n",
    "        return num * factorial(num - 1)\n",
    "    \n",
    "num = int(input(\"Enter The Number: \"))\n",
    "factorial(num)"
   ]
  },
  {
   "cell_type": "code",
   "execution_count": 9,
   "id": "2f29466f",
   "metadata": {},
   "outputs": [
    {
     "name": "stdout",
     "output_type": "stream",
     "text": [
      "Enter The Number: 4\n",
      "4 is not a prime number\n"
     ]
    }
   ],
   "source": [
    "# 8. Implement a function to check if a given number is prime.\n",
    "def isPrime(num):\n",
    "    flag = False\n",
    "    for i in range(2,num):\n",
    "        if num%i == 0:\n",
    "            flag=True\n",
    "    if flag == True:\n",
    "        print(f\"{num} is not a prime number\")\n",
    "    else:\n",
    "        print(f\"{num} is a prime number\")\n",
    "        \n",
    "number = int(input(\"Enter The Number: \"))\n",
    "isPrime(number)"
   ]
  },
  {
   "cell_type": "code",
   "execution_count": 10,
   "id": "733aa51b",
   "metadata": {},
   "outputs": [
    {
     "data": {
      "text/plain": [
       "[2, 4, 5, 8, 9, 10]"
      ]
     },
     "execution_count": 10,
     "metadata": {},
     "output_type": "execute_result"
    }
   ],
   "source": [
    "# 9. Write a Python program to sort a list of integers in ascending order.\n",
    "l = [8,5,4,2,9,10]\n",
    "for i in range(len(l)):\n",
    "    for j in range(len(l)-1):\n",
    "        if l[j]>l[j+1]:\n",
    "            temp = l[j]\n",
    "            l[j] = l[j+1]\n",
    "            l[j+1] = temp\n",
    "l"
   ]
  },
  {
   "cell_type": "code",
   "execution_count": 11,
   "id": "77c46452",
   "metadata": {},
   "outputs": [
    {
     "data": {
      "text/plain": [
       "15"
      ]
     },
     "execution_count": 11,
     "metadata": {},
     "output_type": "execute_result"
    }
   ],
   "source": [
    "# 10. Implement a function to find the sum of all numbers in a list.\n",
    "ls = [1,2,3,4,5]\n",
    "sum = 0\n",
    "for i in ls:\n",
    "    sum = sum + i\n",
    "sum"
   ]
  },
  {
   "cell_type": "code",
   "execution_count": 12,
   "id": "05752fc4",
   "metadata": {},
   "outputs": [
    {
     "name": "stdout",
     "output_type": "stream",
     "text": [
      "2 4 6 8 "
     ]
    }
   ],
   "source": [
    "# 11. Write a program to find the common elements between two lists.\n",
    "l1 = [1,2,3,4,5,6,7,8]\n",
    "l2 = [2,4,6,8]\n",
    "for i in l1:\n",
    "    if i in l2:\n",
    "        print(i, end=\" \")"
   ]
  },
  {
   "cell_type": "code",
   "execution_count": 13,
   "id": "fd48f9de",
   "metadata": {},
   "outputs": [
    {
     "data": {
      "text/plain": [
       "True"
      ]
     },
     "execution_count": 13,
     "metadata": {},
     "output_type": "execute_result"
    }
   ],
   "source": [
    "# 12. Implement a function to check if a given string is an anagram of another string.\n",
    "def isAnagram(s, t):\n",
    "    if len(s) != len(t):\n",
    "        return False\n",
    "    counter = [0] * 26\n",
    "    for i in range(len(s)):\n",
    "        counter[ord(s[i]) - ord('a')] += 1\n",
    "        counter[ord(t[i]) - ord('a')] -= 1\n",
    "        \n",
    "    for count in counter:\n",
    "        if count != 0:\n",
    "            return False\n",
    "        \n",
    "    return True\n",
    "\n",
    "s = \"anagram\"\n",
    "t = \"nagaram\"\n",
    "isAnagram(s,t)"
   ]
  },
  {
   "cell_type": "code",
   "execution_count": 14,
   "id": "6f852fae",
   "metadata": {},
   "outputs": [
    {
     "name": "stdout",
     "output_type": "stream",
     "text": [
      "ABC\n",
      "ACB\n",
      "BAC\n",
      "BCA\n",
      "CBA\n",
      "CAB\n"
     ]
    }
   ],
   "source": [
    "# 13. Write a Python program to generate all permutations of a given string.\n",
    "def toString(List):\n",
    "    return ''.join(List)\n",
    "\n",
    "def permute(a, l, r):\n",
    "    if l == r:\n",
    "        print (toString(a))\n",
    "    else:\n",
    "        for i in range(l, r + 1):\n",
    "            a[l], a[i] = a[i], a[l]\n",
    "            permute(a, l + 1, r)\n",
    " \n",
    "            # backtrack\n",
    "            a[l], a[i] = a[i], a[l]\n",
    "        \n",
    "string = \"ABC\"\n",
    "n = len(string)\n",
    "a = list(string)\n",
    "permute(a, 0, n-1)"
   ]
  },
  {
   "cell_type": "code",
   "execution_count": 15,
   "id": "9121c8a3",
   "metadata": {},
   "outputs": [
    {
     "name": "stdout",
     "output_type": "stream",
     "text": [
      "0,1,1,2,3\n"
     ]
    }
   ],
   "source": [
    "# 14. Implement a function to calculate the Fibonacci sequence up to a given number of terms.\n",
    "def fiboNacciNumb(n):\n",
    "    prev = 0\n",
    "    nex = 1\n",
    "    for i in range(n):\n",
    "        if i < (n-1):\n",
    "            print(prev, end=\",\")\n",
    "        else:\n",
    "            print(prev)\n",
    "        prev, nex = nex, prev + nex\n",
    "        \n",
    "fiboNacciNumb(5)"
   ]
  },
  {
   "cell_type": "code",
   "execution_count": 16,
   "id": "b518070c",
   "metadata": {},
   "outputs": [
    {
     "name": "stdout",
     "output_type": "stream",
     "text": [
      "Median of list is : 8.5\n"
     ]
    }
   ],
   "source": [
    "#15.Write a program to find the median of a list of numbers.\n",
    "import statistics\n",
    "\n",
    "test_list = [4, 5, 8, 9, 10, 17]\n",
    "res = statistics.median(test_list)\n",
    "print(\"Median of list is : \" + str(res))"
   ]
  },
  {
   "cell_type": "code",
   "execution_count": 17,
   "id": "8786e972",
   "metadata": {},
   "outputs": [
    {
     "name": "stdout",
     "output_type": "stream",
     "text": [
      "Yes\n"
     ]
    }
   ],
   "source": [
    "# 16. Implement a function to check if a given list is sorted in non-decreasing order.\n",
    "def listSortedOrNot(arr):\n",
    " \n",
    "    n = len(arr)\n",
    "    if n == 1 or n == 0:\n",
    "        return True\n",
    " \n",
    "    \n",
    "    return arr[0] <= arr[1] and listSortedOrNot(arr[1:])\n",
    "\n",
    "l = [20, 23, 23, 45, 78, 88]\n",
    "\n",
    "# Displaying result\n",
    "if listSortedOrNot(l):\n",
    "    print(\"Yes\")\n",
    "else:\n",
    "    print(\"No\")"
   ]
  },
  {
   "cell_type": "code",
   "execution_count": 18,
   "id": "2c0cb997",
   "metadata": {},
   "outputs": [
    {
     "name": "stdout",
     "output_type": "stream",
     "text": [
      "[90, 11, 58, 31, 66, 28, 54]\n"
     ]
    }
   ],
   "source": [
    "#17. Write a Python program to find the intersection of two lists.\n",
    "def intersection_list(list1, list2):  \n",
    "    list3 = [value for value in list1 if value in list2]  \n",
    "    return list3  \n",
    "\n",
    "# Driver Code  \n",
    "list1 = [40, 90, 11, 58, 31, 66, 28, 54, 79]  \n",
    "list2 = [58, 90, 54, 31, 45, 11, 66, 28, 26]  \n",
    "print(intersection_list(list1, list2)) "
   ]
  },
  {
   "cell_type": "code",
   "execution_count": 19,
   "id": "0818d7f1",
   "metadata": {},
   "outputs": [
    {
     "name": "stdout",
     "output_type": "stream",
     "text": [
      "Maximum sub array sum is  7\n"
     ]
    }
   ],
   "source": [
    "# 18. Implement a function to find the maximum subarray sum in a given list.\n",
    "def maxCrossingSum(arr, l, m, h):\n",
    "\n",
    "    sm = 0\n",
    "    left_sum = -10000\n",
    "\n",
    "    for i in range(m, l-1, -1):\n",
    "        sm = sm + arr[i]\n",
    "\n",
    "        if (sm > left_sum):\n",
    "            left_sum = sm\n",
    "\n",
    "    sm = 0\n",
    "    right_sum = -1000\n",
    "    for i in range(m, h + 1):\n",
    "        sm = sm + arr[i]\n",
    "\n",
    "        if (sm > right_sum):\n",
    "            right_sum = sm\n",
    "\n",
    "    \n",
    "    return max(left_sum + right_sum - arr[m], left_sum, right_sum)\n",
    "\n",
    "\n",
    "def maxSubArraySum(arr, l, h):\n",
    "    #Invalid Range: low is greater than high\n",
    "    if (l > h):\n",
    "        return -10000\n",
    "    # Base Case: Only one element\n",
    "    if (l == h):\n",
    "        return arr[l]\n",
    "\n",
    "    # Find middle point\n",
    "    m = (l + h) // 2\n",
    "\n",
    "    \n",
    "    return max(maxSubArraySum(arr, l, m-1),maxSubArraySum(arr, m+1, h),maxCrossingSum(arr, l, m, h))\n",
    "\n",
    "\n",
    "# Driver Code\n",
    "arr = [-2, -5, 6, -2, -3, 1, 5, -6]\n",
    "n = len(arr)\n",
    "\n",
    "max_sum = maxSubArraySum(arr, 0, n-1)\n",
    "print(\"Maximum sub array sum is \", max_sum)"
   ]
  },
  {
   "cell_type": "code",
   "execution_count": 20,
   "id": "06d0072e",
   "metadata": {},
   "outputs": [
    {
     "data": {
      "text/plain": [
       "'tn'"
      ]
     },
     "execution_count": 20,
     "metadata": {},
     "output_type": "execute_result"
    }
   ],
   "source": [
    "# 19. Write a program to remove all vowels from a given string.\n",
    "def chkVowel(string):\n",
    "    vowels = ['a','e','i','o','u','A','E','I','O','U']\n",
    "    for i in vowels:\n",
    "        if i in string:\n",
    "            string = string.replace(i,\"\")\n",
    "            \n",
    "    return string\n",
    "\n",
    "chkVowel(\"Atanu\")"
   ]
  },
  {
   "cell_type": "code",
   "execution_count": 21,
   "id": "b0015790",
   "metadata": {},
   "outputs": [
    {
     "data": {
      "text/plain": [
       "'noitcnuf sti dna gnirts nohtyp GNINrael ma i dna ssalc gnimmargorp nohtyP tsriF yM si siht'"
      ]
     },
     "execution_count": 21,
     "metadata": {},
     "output_type": "execute_result"
    }
   ],
   "source": [
    "# 20. Implement a function to reverse the order of words in a given sentence.\n",
    "s = \"this is My First Python programming class and i am learNING python string and its function\"\n",
    "s[::-1]"
   ]
  },
  {
   "cell_type": "code",
   "execution_count": 22,
   "id": "a0da251f",
   "metadata": {},
   "outputs": [
    {
     "data": {
      "text/plain": [
       "True"
      ]
     },
     "execution_count": 22,
     "metadata": {},
     "output_type": "execute_result"
    }
   ],
   "source": [
    "# 21. Write a Python program to check if two strings are anagrams of each other.\n",
    "def isAnagram(s, t):\n",
    "    if len(s) != len(t):\n",
    "        return False\n",
    "    counter = [0] * 26\n",
    "    for i in range(len(s)):\n",
    "        counter[ord(s[i]) - ord('a')] += 1\n",
    "        counter[ord(t[i]) - ord('a')] -= 1\n",
    "        \n",
    "    for count in counter:\n",
    "        if count != 0:\n",
    "            return False\n",
    "        \n",
    "    return True\n",
    "\n",
    "s = \"anagram\"\n",
    "t = \"nagaram\"\n",
    "isAnagram(s,t)"
   ]
  },
  {
   "cell_type": "code",
   "execution_count": 23,
   "id": "e32f8a2d",
   "metadata": {},
   "outputs": [
    {
     "data": {
      "text/plain": [
       "True"
      ]
     },
     "execution_count": 23,
     "metadata": {},
     "output_type": "execute_result"
    }
   ],
   "source": [
    "# 21. Write a Python program to check if two strings are anagrams of each other.\n",
    "def isAnagram(s, t):\n",
    "    if len(s) != len(t):\n",
    "        return False\n",
    "    counter = [0] * 26\n",
    "    for i in range(len(s)):\n",
    "        counter[ord(s[i]) - ord('a')] += 1\n",
    "        counter[ord(t[i]) - ord('a')] -= 1\n",
    "        \n",
    "    for count in counter:\n",
    "        if count != 0:\n",
    "            return False\n",
    "        \n",
    "    return True\n",
    "\n",
    "s = \"anagram\"\n",
    "t = \"nagaram\"\n",
    "isAnagram(s,t)"
   ]
  },
  {
   "cell_type": "code",
   "execution_count": 24,
   "id": "6e264fc5",
   "metadata": {},
   "outputs": [
    {
     "name": "stdout",
     "output_type": "stream",
     "text": [
      "3 3 5 7 "
     ]
    }
   ],
   "source": [
    "# 23. Write a program to find the prime factors of a given number.\n",
    "import math\n",
    "\n",
    "def primeFactors(n):\n",
    "    while n % 2 == 0:\n",
    "        print(2),\n",
    "        n = n / 2\n",
    "        \n",
    "    for i in range(3,int(math.sqrt(n))+1,2):\n",
    "        while n % i== 0:\n",
    "            print(i,end=\" \"),\n",
    "            n = n / i\n",
    "            \n",
    "    if n > 2:\n",
    "        print(n)\n",
    "        \n",
    "        \n",
    "n = 315\n",
    "primeFactors(n)"
   ]
  },
  {
   "cell_type": "code",
   "execution_count": 25,
   "id": "d789a67e",
   "metadata": {},
   "outputs": [
    {
     "data": {
      "text/plain": [
       "True"
      ]
     },
     "execution_count": 25,
     "metadata": {},
     "output_type": "execute_result"
    }
   ],
   "source": [
    "#24. Implement a function to check if a given number is a power of two\n",
    "def isPowerofTwo(n):\n",
    "    if(n == 1):\n",
    "        return True\n",
    "    if(n <= 0 or n % 2 != 0):\n",
    "        return False\n",
    "    \n",
    "    return isPowerofTwo(n//2)\n",
    "\n",
    "isPowerofTwo(16)"
   ]
  },
  {
   "cell_type": "code",
   "execution_count": 26,
   "id": "2788e83a",
   "metadata": {},
   "outputs": [],
   "source": [
    "# 25. Write a Python program to merge two sorted lists into a single sorted list.\n",
    "def merge(nums1, m, nums2, n):\n",
    "    \n",
    "    nums1Copy = nums1[:m]\n",
    "    p1, p2 = 0, 0\n",
    "    p= 0\n",
    "    \n",
    "    while p < m+n:\n",
    "        if p2 >= n or (p1 < m and nums1Copy[p1] < nums2[p2]):\n",
    "            nums1[p] = nums1Copy[p1]\n",
    "            p1 = p1 + 1\n",
    "        else:\n",
    "            nums1[p] = nums2[p2]\n",
    "            p2 = p2 + 1\n",
    "        p = p + 1\n",
    "        \n",
    "    return nums1"
   ]
  },
  {
   "cell_type": "code",
   "execution_count": 27,
   "id": "48e86ef5",
   "metadata": {},
   "outputs": [],
   "source": [
    "nums1 = [1,2,3,0,0,0]\n",
    "m = 3\n",
    "nums2 = [2,5,6]\n",
    "n = 3"
   ]
  },
  {
   "cell_type": "code",
   "execution_count": 28,
   "id": "5a84243b",
   "metadata": {},
   "outputs": [
    {
     "data": {
      "text/plain": [
       "[1, 2, 2, 3, 5, 6]"
      ]
     },
     "execution_count": 28,
     "metadata": {},
     "output_type": "execute_result"
    }
   ],
   "source": [
    "merge(nums1, m, nums2, n)"
   ]
  },
  {
   "cell_type": "code",
   "execution_count": 29,
   "id": "a284c37b",
   "metadata": {},
   "outputs": [
    {
     "name": "stdout",
     "output_type": "stream",
     "text": [
      "Mode is / are: 5\n"
     ]
    }
   ],
   "source": [
    "# 26. Implement a function to find the mode of a list of numbers.\n",
    "from collections import Counter\n",
    " \n",
    "# list of elements to calculate mode\n",
    "n_num = [1, 2, 3, 4, 5, 5]\n",
    "n = len(n_num)\n",
    " \n",
    "data = Counter(n_num)\n",
    "get_mode = dict(data)\n",
    "mode = [k for k, v in get_mode.items() if v == max(list(data.values()))]\n",
    " \n",
    "if len(mode) == n:\n",
    "    get_mode = \"No mode found\"\n",
    "else:\n",
    "    get_mode = \"Mode is / are: \" + ', '.join(map(str, mode))\n",
    "     \n",
    "print(get_mode)"
   ]
  },
  {
   "cell_type": "code",
   "execution_count": 30,
   "id": "327281bd",
   "metadata": {},
   "outputs": [
    {
     "name": "stdout",
     "output_type": "stream",
     "text": [
      "1\n"
     ]
    }
   ],
   "source": [
    "# 27. Write a program to find the greatest common divisor (GCD) of two numbers.\n",
    "def findhcf(x_term, y_term):\n",
    "    if x_term>y_term:\n",
    "        dividend = x_term\n",
    "        divisor = y_term\n",
    "    else:\n",
    "        dividend = y_term\n",
    "        divisor = x_term\n",
    "    reminder = dividend%divisor\n",
    "    while(reminder!=0):\n",
    "        dividend = divisor\n",
    "        divisor = reminder\n",
    "        reminder = dividend%divisor\n",
    "        \n",
    "    gcd = divisor\n",
    "    print(gcd)\n",
    "    \n",
    "findhcf(3,4)"
   ]
  },
  {
   "cell_type": "code",
   "execution_count": 31,
   "id": "58049522",
   "metadata": {},
   "outputs": [
    {
     "data": {
      "text/plain": [
       "2.23606797749979"
      ]
     },
     "execution_count": 31,
     "metadata": {},
     "output_type": "execute_result"
    }
   ],
   "source": [
    "#28. Implement a function to calculate the square root of a given number.\n",
    "math.sqrt(5)"
   ]
  },
  {
   "cell_type": "code",
   "execution_count": 32,
   "id": "1f767a91",
   "metadata": {},
   "outputs": [
    {
     "data": {
      "text/plain": [
       "True"
      ]
     },
     "execution_count": 32,
     "metadata": {},
     "output_type": "execute_result"
    }
   ],
   "source": [
    "#29. Write a Python program to check if a given string is a valid palindrome ignoring non-alphanumeric characters.\n",
    "def isPalindrome(s):\n",
    "    i, j = 0, len(s)-1\n",
    "    \n",
    "    while i<j:\n",
    "        \n",
    "        while i<j and not s[i].isalnum():\n",
    "            i = i + 1\n",
    "        while i<j and not s[j].isalnum():\n",
    "            j = j - 1\n",
    "            \n",
    "        if s[i].lower() != s[j].lower():\n",
    "            return False\n",
    "        \n",
    "        i = i + 1\n",
    "        j = j - 1\n",
    "        \n",
    "    return True\n",
    "\n",
    "s = \"A man, a plan, a canal: Panama\"\n",
    "isPalindrome(s)"
   ]
  },
  {
   "cell_type": "code",
   "execution_count": 33,
   "id": "401fd865",
   "metadata": {},
   "outputs": [
    {
     "data": {
      "text/plain": [
       "2"
      ]
     },
     "execution_count": 33,
     "metadata": {},
     "output_type": "execute_result"
    }
   ],
   "source": [
    "#30. Implement a function to find the minimum element in a rotated sorted list.\n",
    "l = [8,5,4,2,9,10]\n",
    "for i in range(len(l)):\n",
    "    for j in range(len(l)-1):\n",
    "        if l[j]>l[j+1]:\n",
    "            temp = l[j]\n",
    "            l[j] = l[j+1]\n",
    "            l[j+1] = temp\n",
    "l[0]"
   ]
  },
  {
   "cell_type": "code",
   "execution_count": 34,
   "id": "16884a46",
   "metadata": {},
   "outputs": [
    {
     "data": {
      "text/plain": [
       "24"
      ]
     },
     "execution_count": 34,
     "metadata": {},
     "output_type": "execute_result"
    }
   ],
   "source": [
    "# 31. Write a program to find the sum of all even numbers in a list.\n",
    "def sum_even_list(l):\n",
    "    sum = 0\n",
    "    for i in l:\n",
    "        if i%2 == 0:\n",
    "            sum = sum + i\n",
    "            \n",
    "    return sum\n",
    "\n",
    "l = [8,5,4,2,9,10]\n",
    "sum_even_list(l)"
   ]
  },
  {
   "cell_type": "code",
   "execution_count": 35,
   "id": "a7432af5",
   "metadata": {},
   "outputs": [
    {
     "data": {
      "text/plain": [
       "25"
      ]
     },
     "execution_count": 35,
     "metadata": {},
     "output_type": "execute_result"
    }
   ],
   "source": [
    "#32. Implement a function to calculate the power of a number using recursion.\n",
    "def power(N, P):\n",
    "    if P == 0:\n",
    "        return 1\n",
    "    return (N*power(N, P-1))\n",
    "\n",
    "N = 5\n",
    "P = 2\n",
    "power(N, P)"
   ]
  },
  {
   "cell_type": "code",
   "execution_count": 36,
   "id": "f2ec7bef",
   "metadata": {},
   "outputs": [
    {
     "data": {
      "text/plain": [
       "[1, 2, 0, 3]"
      ]
     },
     "execution_count": 36,
     "metadata": {},
     "output_type": "execute_result"
    }
   ],
   "source": [
    "# 33. Write a Python program to remove duplicates from a list while preserving the order.\n",
    "def duplic_list(seq):\n",
    "    seen = set()\n",
    "    seen_add = seen.add\n",
    "    return [x for x in seq if not (x in seen or seen_add(x))]\n",
    "\n",
    "items = [1, 2, 0, 1, 3, 2]\n",
    "duplic_list(items)"
   ]
  },
  {
   "cell_type": "code",
   "execution_count": 37,
   "id": "1f92ba73",
   "metadata": {},
   "outputs": [
    {
     "name": "stdout",
     "output_type": "stream",
     "text": [
      "The longest Common Prefix is : gee\n"
     ]
    }
   ],
   "source": [
    "# 34. Implement a function to find the longest common prefix among a list of strings.\n",
    "def longestCommonPrefix( a):\n",
    "     \n",
    "    size = len(a)\n",
    " \n",
    "    # if size is 0, return empty string\n",
    "    if (size == 0):\n",
    "        return \"\"\n",
    " \n",
    "    if (size == 1):\n",
    "        return a[0]\n",
    " \n",
    "    # sort the array of strings\n",
    "    a.sort()\n",
    "     \n",
    "    # find the minimum length from\n",
    "    # first and last string\n",
    "    end = min(len(a[0]), len(a[size - 1]))\n",
    " \n",
    "    # find the common prefix between\n",
    "    # the first and last string\n",
    "    i = 0\n",
    "    while (i < end and\n",
    "           a[0][i] == a[size - 1][i]):\n",
    "        i += 1\n",
    " \n",
    "    pre = a[0][0: i]\n",
    "    return pre\n",
    " \n",
    "# Driver Code\n",
    "if __name__ == \"__main__\":\n",
    " \n",
    "    input = [\"geeksforgeeks\", \"geeks\",\n",
    "                     \"geek\", \"geezer\"]\n",
    "    print(\"The longest Common Prefix is :\" ,\n",
    "                 longestCommonPrefix(input))"
   ]
  },
  {
   "cell_type": "code",
   "execution_count": 38,
   "id": "37b5371c",
   "metadata": {},
   "outputs": [
    {
     "data": {
      "text/plain": [
       "True"
      ]
     },
     "execution_count": 38,
     "metadata": {},
     "output_type": "execute_result"
    }
   ],
   "source": [
    "# 35. Write a program to check if a given number is a perfect square.\n",
    "def isPerfectSquare(x):\n",
    "    if(x >= 0):\n",
    "        num = int(math.sqrt(x))\n",
    "        return ((num*num) == x)\n",
    "    return false\n",
    "\n",
    "isPerfectSquare(2500)"
   ]
  },
  {
   "cell_type": "code",
   "execution_count": 39,
   "id": "4d5ddb18",
   "metadata": {},
   "outputs": [
    {
     "data": {
      "text/plain": [
       "24"
      ]
     },
     "execution_count": 39,
     "metadata": {},
     "output_type": "execute_result"
    }
   ],
   "source": [
    "#36. Implement a function to calculate the product of all elements in a list.\n",
    "def mul_list(l):\n",
    "    mul = 1\n",
    "    for i in l:\n",
    "        mul = mul * i\n",
    "    return mul\n",
    "\n",
    "mul_list([1,2,3,4])"
   ]
  },
  {
   "cell_type": "code",
   "execution_count": 40,
   "id": "4754ffae",
   "metadata": {},
   "outputs": [
    {
     "name": "stdout",
     "output_type": "stream",
     "text": [
      "siht si yM tsriF nohtyP gnimmargorp ssalc dna i ma GNINrael nohtyp gnirts dna sti noitcnuf\n"
     ]
    }
   ],
   "source": [
    "#37. Write a Python program to reverse the order of words in a sentence while preserving the word order.\n",
    "s = \"this is My First Python programming class and i am learNING python string and its function\"\n",
    "s = s.split()\n",
    "a = []\n",
    "for i in s:\n",
    "    i = i[::-1]\n",
    "    a.append(i)\n",
    "r = \" \".join(a)\n",
    "    \n",
    "print(r)"
   ]
  },
  {
   "cell_type": "code",
   "execution_count": 41,
   "id": "37163429",
   "metadata": {},
   "outputs": [
    {
     "name": "stdout",
     "output_type": "stream",
     "text": [
      "-6\n"
     ]
    }
   ],
   "source": [
    "# 38. Implement a function to find the missing number in a given list of consecutive numbers.\n",
    "def findMissing(arr, n):\n",
    " \n",
    "    l, h = 0, n - 1\n",
    "    mid = 0\n",
    " \n",
    "    while (h > l):\n",
    "        \n",
    "        mid = l + (h - l) // 2\n",
    "        if (arr[mid] - mid == arr[0]):\n",
    "            \n",
    "            if (arr[mid + 1] - arr[mid] > 1):\n",
    "                return arr[mid] + 1\n",
    "            else:\n",
    "                l = mid + 1\n",
    "                \n",
    "        else:\n",
    "            if (arr[mid] - arr[mid - 1] > 1):\n",
    "                return arr[mid] - 1\n",
    "            else:\n",
    "                h = mid - 1\n",
    "                \n",
    "    return -1\n",
    "\n",
    "# Driver code\n",
    "arr = [-9, -8, -7, -5, -4, -3, -2, -1]\n",
    "n = len(arr)\n",
    " \n",
    "print(findMissing(arr, n))"
   ]
  },
  {
   "cell_type": "code",
   "execution_count": 42,
   "id": "3baf3bde",
   "metadata": {},
   "outputs": [
    {
     "data": {
      "text/plain": [
       "6"
      ]
     },
     "execution_count": 42,
     "metadata": {},
     "output_type": "execute_result"
    }
   ],
   "source": [
    "# 39. Write a program to find the sum of digits of a given number.\n",
    "def sumofDigit(num):\n",
    "    sum = 0\n",
    "    for i in str(num):\n",
    "        sum = sum + int(i)\n",
    "        \n",
    "    return sum\n",
    "\n",
    "sumofDigit(123)"
   ]
  },
  {
   "cell_type": "code",
   "execution_count": 43,
   "id": "405ee9d8",
   "metadata": {},
   "outputs": [
    {
     "data": {
      "text/plain": [
       "True"
      ]
     },
     "execution_count": 43,
     "metadata": {},
     "output_type": "execute_result"
    }
   ],
   "source": [
    "# 40. Implement a function to check if a given string is a valid palindrome considering case sensitivity.\n",
    "def isPalindrome(s):\n",
    "    i, j = 0, len(s)-1\n",
    "    \n",
    "    while i<j:\n",
    "        \n",
    "        while i<j and not s[i].isalnum():\n",
    "            i = i + 1\n",
    "        while i<j and not s[j].isalnum():\n",
    "            j = j - 1\n",
    "            \n",
    "        if s[i].lower() != s[j].lower():\n",
    "            return False\n",
    "        \n",
    "        i = i + 1\n",
    "        j = j - 1\n",
    "        \n",
    "    return True\n",
    "\n",
    "s = \"A man, a plan, a canal: Panama\"\n",
    "isPalindrome(s)"
   ]
  },
  {
   "cell_type": "code",
   "execution_count": 44,
   "id": "c421011f",
   "metadata": {},
   "outputs": [
    {
     "name": "stdout",
     "output_type": "stream",
     "text": [
      "1\n"
     ]
    }
   ],
   "source": [
    "# 41. Write a Python program to find the smallest missing positive integer in a list.\n",
    "def solution(A):\n",
    " \n",
    "    m = max(A)\n",
    "    if m < 1:\n",
    "         return 1\n",
    "    if len(A) == 1:\n",
    "         return 2 if A[0] == 1 else 1\n",
    "    l = [0] * m\n",
    "    for i in range(len(A)):\n",
    "        if A[i] > 0:\n",
    "            if l[A[i] - 1] != 1:\n",
    "                 l[A[i] - 1] = 1\n",
    "    for i in range(len(l)):\n",
    "        if l[i] == 0:\n",
    "            return i + 1\n",
    "    return i + 2\n",
    "\n",
    "\n",
    "arr = [0, 10, 2, -10, -20]\n",
    "print(solution(arr))"
   ]
  },
  {
   "cell_type": "code",
   "execution_count": 45,
   "id": "b2b8eb47",
   "metadata": {},
   "outputs": [
    {
     "name": "stdout",
     "output_type": "stream",
     "text": [
      "1:1\n",
      "2:2\n",
      "3:3\n",
      "4:2\n",
      "5:1\n"
     ]
    }
   ],
   "source": [
    "# 43. Write a program to find the number of occurrences of a given element in a list.\n",
    "l = [1,2,2,3,3,3,4,4,5]\n",
    "occurance = 0\n",
    "for i in set(l):\n",
    "    print(f\"{i}:{l.count(i)}\")"
   ]
  },
  {
   "cell_type": "code",
   "execution_count": 46,
   "id": "488fe621",
   "metadata": {},
   "outputs": [
    {
     "data": {
      "text/plain": [
       "True"
      ]
     },
     "execution_count": 46,
     "metadata": {},
     "output_type": "execute_result"
    }
   ],
   "source": [
    "# 44. Implement a function to check if a given number is a perfect number.\n",
    "def isPerfect( n ):\n",
    "    sum = 1\n",
    "    i = 2\n",
    "    while i * i <= n:\n",
    "        if n % i == 0:\n",
    "            sum = sum + i + n/i\n",
    "        i += 1\n",
    "     \n",
    "    return (True if sum == n and n!=1 else False)\n",
    "\n",
    "isPerfect(6)"
   ]
  },
  {
   "cell_type": "code",
   "execution_count": 47,
   "id": "f85f379c",
   "metadata": {},
   "outputs": [
    {
     "data": {
      "text/plain": [
       "'atnu'"
      ]
     },
     "execution_count": 47,
     "metadata": {},
     "output_type": "execute_result"
    }
   ],
   "source": [
    "#45. Write a Python program to remove all duplicates from a string.\n",
    "s = \"atanu\"\n",
    "s_list = []\n",
    "for i in s:\n",
    "    if i in s_list:\n",
    "        continue\n",
    "    else:\n",
    "        s_list.append(i)\n",
    "        \n",
    "s = \"\".join(s_list)\n",
    "s"
   ]
  },
  {
   "cell_type": "code",
   "execution_count": 48,
   "id": "063a1fe4",
   "metadata": {},
   "outputs": [
    {
     "data": {
      "text/plain": [
       "2"
      ]
     },
     "execution_count": 48,
     "metadata": {},
     "output_type": "execute_result"
    }
   ],
   "source": [
    "#46. Implement a function to find the first missing positive\n",
    "def firstMissingPositive(nums) -> int:\n",
    "        if 1 in nums:\n",
    "            nums.sort()\n",
    "            for i in range(0, len(nums) - 1):\n",
    "                if nums[i + 1] != nums[i] + 1 and nums[i + 1] != nums[i]:\n",
    "                    if nums[i] + 1 > 0:\n",
    "                        return nums[i] + 1\n",
    "            return nums[len(nums) - 1] + 1\n",
    "        else:\n",
    "            return 1\n",
    "        \n",
    "        \n",
    "nums = [3,4,-1,1]\n",
    "firstMissingPositive(nums)"
   ]
  },
  {
   "cell_type": "code",
   "execution_count": null,
   "id": "3bd643af",
   "metadata": {},
   "outputs": [],
   "source": []
  }
 ],
 "metadata": {
  "kernelspec": {
   "display_name": "Python 3 (ipykernel)",
   "language": "python",
   "name": "python3"
  },
  "language_info": {
   "codemirror_mode": {
    "name": "ipython",
    "version": 3
   },
   "file_extension": ".py",
   "mimetype": "text/x-python",
   "name": "python",
   "nbconvert_exporter": "python",
   "pygments_lexer": "ipython3",
   "version": "3.9.7"
  }
 },
 "nbformat": 4,
 "nbformat_minor": 5
}
